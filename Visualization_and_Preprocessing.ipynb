{
 "cells": [
  {
   "cell_type": "markdown",
   "id": "82200e10",
   "metadata": {},
   "source": [
    "# Preprocessing"
   ]
  },
  {
   "cell_type": "code",
   "execution_count": 76,
   "id": "01cb6a01",
   "metadata": {},
   "outputs": [],
   "source": [
    "import torch.nn as nn\n",
    "import pandas as pd\n",
    "import numpy as np\n",
    "import sklearn\n",
    "import seaborn as sns\n",
    "import matplotlib.pyplot as plt\n",
    "import heapq\n",
    "import re\n",
    "from sklearn.feature_extraction.text import CountVectorizer\n",
    "\n",
    "%matplotlib inline"
   ]
  },
  {
   "cell_type": "code",
   "execution_count": 77,
   "id": "58a04125",
   "metadata": {},
   "outputs": [
    {
     "data": {
      "text/html": [
       "<div>\n",
       "<style scoped>\n",
       "    .dataframe tbody tr th:only-of-type {\n",
       "        vertical-align: middle;\n",
       "    }\n",
       "\n",
       "    .dataframe tbody tr th {\n",
       "        vertical-align: top;\n",
       "    }\n",
       "\n",
       "    .dataframe thead th {\n",
       "        text-align: right;\n",
       "    }\n",
       "</style>\n",
       "<table border=\"1\" class=\"dataframe\">\n",
       "  <thead>\n",
       "    <tr style=\"text-align: right;\">\n",
       "      <th></th>\n",
       "      <th>id</th>\n",
       "      <th>text</th>\n",
       "      <th>author</th>\n",
       "    </tr>\n",
       "  </thead>\n",
       "  <tbody>\n",
       "    <tr>\n",
       "      <th>0</th>\n",
       "      <td>id26305</td>\n",
       "      <td>This process, however, afforded me no means of...</td>\n",
       "      <td>EAP</td>\n",
       "    </tr>\n",
       "    <tr>\n",
       "      <th>1</th>\n",
       "      <td>id17569</td>\n",
       "      <td>It never once occurred to me that the fumbling...</td>\n",
       "      <td>HPL</td>\n",
       "    </tr>\n",
       "    <tr>\n",
       "      <th>2</th>\n",
       "      <td>id11008</td>\n",
       "      <td>In his left hand was a gold snuff box, from wh...</td>\n",
       "      <td>EAP</td>\n",
       "    </tr>\n",
       "    <tr>\n",
       "      <th>3</th>\n",
       "      <td>id27763</td>\n",
       "      <td>How lovely is spring As we looked from Windsor...</td>\n",
       "      <td>MWS</td>\n",
       "    </tr>\n",
       "    <tr>\n",
       "      <th>4</th>\n",
       "      <td>id12958</td>\n",
       "      <td>Finding nothing else, not even gold, the Super...</td>\n",
       "      <td>HPL</td>\n",
       "    </tr>\n",
       "  </tbody>\n",
       "</table>\n",
       "</div>"
      ],
      "text/plain": [
       "        id                                               text author\n",
       "0  id26305  This process, however, afforded me no means of...    EAP\n",
       "1  id17569  It never once occurred to me that the fumbling...    HPL\n",
       "2  id11008  In his left hand was a gold snuff box, from wh...    EAP\n",
       "3  id27763  How lovely is spring As we looked from Windsor...    MWS\n",
       "4  id12958  Finding nothing else, not even gold, the Super...    HPL"
      ]
     },
     "execution_count": 77,
     "metadata": {},
     "output_type": "execute_result"
    }
   ],
   "source": [
    "df = pd.read_csv(\"train/train.csv\")\n",
    "df.head()"
   ]
  },
  {
   "cell_type": "markdown",
   "id": "dee4c46e",
   "metadata": {},
   "source": [
    "## Feature Analysis"
   ]
  },
  {
   "cell_type": "code",
   "execution_count": 62,
   "id": "0487b31e",
   "metadata": {},
   "outputs": [
    {
     "name": "stdout",
     "output_type": "stream",
     "text": [
      "The highest 10 word counts from EAP were [267, 256, 169, 164, 157, 149, 148, 148, 140, 137].\n",
      "The highest 10 word counts from HPL were [147, 134, 117, 113, 113, 108, 102, 102, 100, 99].\n",
      "The highest 10 word counts from MWS were [861, 594, 445, 377, 335, 191, 190, 186, 186, 181].\n"
     ]
    },
    {
     "data": {
      "text/html": [
       "<div>\n",
       "<style scoped>\n",
       "    .dataframe tbody tr th:only-of-type {\n",
       "        vertical-align: middle;\n",
       "    }\n",
       "\n",
       "    .dataframe tbody tr th {\n",
       "        vertical-align: top;\n",
       "    }\n",
       "\n",
       "    .dataframe thead th {\n",
       "        text-align: right;\n",
       "    }\n",
       "</style>\n",
       "<table border=\"1\" class=\"dataframe\">\n",
       "  <thead>\n",
       "    <tr style=\"text-align: right;\">\n",
       "      <th></th>\n",
       "      <th>EAP_text_length</th>\n",
       "      <th>HPL_text_length</th>\n",
       "      <th>MWS_text_length</th>\n",
       "    </tr>\n",
       "  </thead>\n",
       "  <tbody>\n",
       "    <tr>\n",
       "      <th>count</th>\n",
       "      <td>7900.000000</td>\n",
       "      <td>5635.000000</td>\n",
       "      <td>6044.000000</td>\n",
       "    </tr>\n",
       "    <tr>\n",
       "      <th>mean</th>\n",
       "      <td>25.442405</td>\n",
       "      <td>27.799645</td>\n",
       "      <td>27.417273</td>\n",
       "    </tr>\n",
       "    <tr>\n",
       "      <th>std</th>\n",
       "      <td>18.567706</td>\n",
       "      <td>14.123252</td>\n",
       "      <td>23.134440</td>\n",
       "    </tr>\n",
       "    <tr>\n",
       "      <th>min</th>\n",
       "      <td>2.000000</td>\n",
       "      <td>4.000000</td>\n",
       "      <td>2.000000</td>\n",
       "    </tr>\n",
       "    <tr>\n",
       "      <th>25%</th>\n",
       "      <td>12.000000</td>\n",
       "      <td>18.000000</td>\n",
       "      <td>15.000000</td>\n",
       "    </tr>\n",
       "    <tr>\n",
       "      <th>50%</th>\n",
       "      <td>21.000000</td>\n",
       "      <td>26.000000</td>\n",
       "      <td>23.000000</td>\n",
       "    </tr>\n",
       "    <tr>\n",
       "      <th>75%</th>\n",
       "      <td>33.000000</td>\n",
       "      <td>35.000000</td>\n",
       "      <td>34.000000</td>\n",
       "    </tr>\n",
       "    <tr>\n",
       "      <th>max</th>\n",
       "      <td>267.000000</td>\n",
       "      <td>147.000000</td>\n",
       "      <td>861.000000</td>\n",
       "    </tr>\n",
       "  </tbody>\n",
       "</table>\n",
       "</div>"
      ],
      "text/plain": [
       "       EAP_text_length  HPL_text_length  MWS_text_length\n",
       "count      7900.000000      5635.000000      6044.000000\n",
       "mean         25.442405        27.799645        27.417273\n",
       "std          18.567706        14.123252        23.134440\n",
       "min           2.000000         4.000000         2.000000\n",
       "25%          12.000000        18.000000        15.000000\n",
       "50%          21.000000        26.000000        23.000000\n",
       "75%          33.000000        35.000000        34.000000\n",
       "max         267.000000       147.000000       861.000000"
      ]
     },
     "execution_count": 62,
     "metadata": {},
     "output_type": "execute_result"
    }
   ],
   "source": [
    "df['text_length'] = df[\"text\"].apply(lambda x: len(x.split()))\n",
    "author_names = df['author'].unique()\n",
    "authors_df_list = []\n",
    "word_summary = []\n",
    "for author in author_names:\n",
    "    author_df = df[df['author'] == author].rename(columns={'text_length' : f\"{author}_text_length\"})\n",
    "    top_ten_word_counts = heapq.nlargest(10, author_df[f\"{author}_text_length\"])\n",
    "    print(f\"The highest 10 word counts from {author} were {top_ten_word_counts}.\")\n",
    "    authors_df_list.append(author_df)\n",
    "    word_summary.append(author_df[f\"{author}_text_length\"].describe())\n",
    "word_summary_df = pd.concat(word_summary, axis=1)\n",
    "word_summary_df"
   ]
  },
  {
   "cell_type": "code",
   "execution_count": null,
   "id": "99f2f194",
   "metadata": {},
   "outputs": [
    {
     "name": "stdout",
     "output_type": "stream",
     "text": [
      "EAP had 2 texts with more than 169 words. \n",
      "HPL had 0 texts with more than 169 words. \n",
      "MWS had 11 texts with more than 169 words. \n"
     ]
    }
   ],
   "source": [
    "max_word_count = 169\n",
    "for i, author in enumerate(author_names):\n",
    "    initial_count = len(authors_df_list[i])\n",
    "    authors_df_list[i] = authors_df_list[i][authors_df_list[i][f'{author}_text_length'] <= max_word_count]\n",
    "    print(f\"{author} had {initial_count - len(authors_df_list[i])} texts with more than {max_word_count} words. \")"
   ]
  },
  {
   "cell_type": "markdown",
   "id": "b995f05d",
   "metadata": {},
   "source": [
    "It is important to note that most of these samples fall within the range of 169. This means that we should remove the 13 entries (2 from EAP and 11 from MWS) that have more than 169 entries and consider them outliers. "
   ]
  },
  {
   "cell_type": "code",
   "execution_count": null,
   "id": "746e4723",
   "metadata": {},
   "outputs": [
    {
     "data": {
      "image/png": "[encoded data removed]",
      "text/plain": [
       "<Figure size 640x480 with 1 Axes>"
      ]
     },
     "metadata": {},
     "output_type": "display_data"
    }
   ],
   "source": [
    "#TODO: rename below variable\n",
    "word_list = []\n",
    "for i, author in enumerate(author_names):\n",
    "    word_list.append(authors_df_list[i][f\"{author}_text_length\"].values)\n",
    "_ = sns.boxplot(data=word_list)"
   ]
  },
  {
   "cell_type": "markdown",
   "id": "57f3d0c1",
   "metadata": {},
   "source": [
    "## Preprocessing"
   ]
  },
  {
   "cell_type": "code",
   "execution_count": 93,
   "id": "491b8a11",
   "metadata": {},
   "outputs": [
    {
     "name": "stdout",
     "output_type": "stream",
     "text": [
      "(19579, 25068)\n",
      "0        EAP\n",
      "1        HPL\n",
      "2        EAP\n",
      "3        MWS\n",
      "4        HPL\n",
      "        ... \n",
      "19574    EAP\n",
      "19575    EAP\n",
      "19576    EAP\n",
      "19577    EAP\n",
      "19578    HPL\n",
      "Name: author, Length: 19579, dtype: object\n"
     ]
    }
   ],
   "source": [
    "def one_hot_encode(df) :\n",
    "    labels = df[\"author\"]\n",
    "    df = df.drop(columns=[\"id\", \"author\"])\n",
    "\n",
    "    # Remove punctuation\n",
    "    to_remove = ['.', ',', '?', '!', ':', ';']\n",
    "    replacement = \" \"\n",
    "\n",
    "    pattern = \"|\".join(map(re.escape, to_remove))\n",
    "    df[\"text\"] = df[\"text\"].str.replace(pattern, replacement, regex=True)\n",
    "\n",
    "    # Tokenization\n",
    "    vectorizer = CountVectorizer(lowercase=True, binary=True) # Binary makes values 0/1\n",
    "    X = vectorizer.fit_transform(df[\"text\"])\n",
    "    print(X.shape)\n",
    "    onehot_df = pd.DataFrame(X)\n",
    "\n",
    "    return onehot_df, labels\n",
    "\n",
    "p , _ = one_hot_encode(df)"
   ]
  },
  {
   "cell_type": "markdown",
   "id": "b17c7639",
   "metadata": {},
   "source": [
    "# Model Definition"
   ]
  },
  {
   "cell_type": "code",
   "execution_count": null,
   "id": "c0b8300a",
   "metadata": {},
   "outputs": [],
   "source": [
    "class Net(nn.Module):\n",
    "    def __init__(self):\n",
    "        super(Net, self).__init__()\n",
    "        self.fc1 = nn.Linear(25068, 5)\n",
    "        self.fc2 = nn.Linear(5, 3)\n",
    " \n",
    "    def forward(self, x):\n",
    "        x = F.relu(self.fc1(x))\n",
    "        x = self.fc2(x)\n",
    "        return x\n",
    " \n",
    "# Create an instance of the network\n",
    "net = Net()\n",
    "model = nn.Linear(25068, 32)\n",
    "\n",
    "[]"
   ]
  }
 ],
 "metadata": {
  "kernelspec": {
   "display_name": "code (3.12.8)",
   "language": "python",
   "name": "python3"
  },
  "language_info": {
   "codemirror_mode": {
    "name": "ipython",
    "version": 3
   },
   "file_extension": ".py",
   "mimetype": "text/x-python",
   "name": "python",
   "nbconvert_exporter": "python",
   "pygments_lexer": "ipython3",
   "version": "3.12.8"
  }
 },
 "nbformat": 4,
 "nbformat_minor": 5
}
