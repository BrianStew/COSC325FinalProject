{
 "cells": [
  {
   "cell_type": "markdown",
   "id": "82200e10",
   "metadata": {},
   "source": [
    "# Preprocessing"
   ]
  },
  {
   "cell_type": "code",
   "execution_count": 2,
   "id": "01cb6a01",
   "metadata": {},
   "outputs": [],
   "source": [
    "import pandas as pd\n",
    "import numpy as np\n",
    "import sklearn\n",
    "import seaborn as sns\n",
    "import matplotlib.pyplot as plt\n",
    "import heapq\n",
    "import re\n",
    "from sklearn.feature_extraction.text import CountVectorizer\n",
    "\n",
    "%matplotlib inline"
   ]
  },
  {
   "cell_type": "code",
   "execution_count": 3,
   "id": "58a04125",
   "metadata": {},
   "outputs": [
    {
     "data": {
      "text/html": [
       "<div>\n",
       "<style scoped>\n",
       "    .dataframe tbody tr th:only-of-type {\n",
       "        vertical-align: middle;\n",
       "    }\n",
       "\n",
       "    .dataframe tbody tr th {\n",
       "        vertical-align: top;\n",
       "    }\n",
       "\n",
       "    .dataframe thead th {\n",
       "        text-align: right;\n",
       "    }\n",
       "</style>\n",
       "<table border=\"1\" class=\"dataframe\">\n",
       "  <thead>\n",
       "    <tr style=\"text-align: right;\">\n",
       "      <th></th>\n",
       "      <th>id</th>\n",
       "      <th>text</th>\n",
       "      <th>author</th>\n",
       "    </tr>\n",
       "  </thead>\n",
       "  <tbody>\n",
       "    <tr>\n",
       "      <th>0</th>\n",
       "      <td>id26305</td>\n",
       "      <td>This process, however, afforded me no means of...</td>\n",
       "      <td>EAP</td>\n",
       "    </tr>\n",
       "    <tr>\n",
       "      <th>1</th>\n",
       "      <td>id17569</td>\n",
       "      <td>It never once occurred to me that the fumbling...</td>\n",
       "      <td>HPL</td>\n",
       "    </tr>\n",
       "    <tr>\n",
       "      <th>2</th>\n",
       "      <td>id11008</td>\n",
       "      <td>In his left hand was a gold snuff box, from wh...</td>\n",
       "      <td>EAP</td>\n",
       "    </tr>\n",
       "    <tr>\n",
       "      <th>3</th>\n",
       "      <td>id27763</td>\n",
       "      <td>How lovely is spring As we looked from Windsor...</td>\n",
       "      <td>MWS</td>\n",
       "    </tr>\n",
       "    <tr>\n",
       "      <th>4</th>\n",
       "      <td>id12958</td>\n",
       "      <td>Finding nothing else, not even gold, the Super...</td>\n",
       "      <td>HPL</td>\n",
       "    </tr>\n",
       "  </tbody>\n",
       "</table>\n",
       "</div>"
      ],
      "text/plain": [
       "        id                                               text author\n",
       "0  id26305  This process, however, afforded me no means of...    EAP\n",
       "1  id17569  It never once occurred to me that the fumbling...    HPL\n",
       "2  id11008  In his left hand was a gold snuff box, from wh...    EAP\n",
       "3  id27763  How lovely is spring As we looked from Windsor...    MWS\n",
       "4  id12958  Finding nothing else, not even gold, the Super...    HPL"
      ]
     },
     "execution_count": 3,
     "metadata": {},
     "output_type": "execute_result"
    }
   ],
   "source": [
    "df = pd.read_csv(\"train/train.csv\")\n",
    "df.head()"
   ]
  },
  {
   "cell_type": "markdown",
   "id": "dee4c46e",
   "metadata": {},
   "source": [
    "## Feature Analysis"
   ]
  },
  {
   "cell_type": "code",
   "execution_count": 4,
   "id": "0487b31e",
   "metadata": {},
   "outputs": [
    {
     "name": "stdout",
     "output_type": "stream",
     "text": [
      "The highest 10 word counts from EAP were [267, 256, 169, 164, 157, 149, 148, 148, 140, 137].\n",
      "The highest 10 word counts from HPL were [147, 134, 117, 113, 113, 108, 102, 102, 100, 99].\n",
      "The highest 10 word counts from MWS were [861, 594, 445, 377, 335, 191, 190, 186, 186, 181].\n"
     ]
    },
    {
     "data": {
      "text/html": [
       "<div>\n",
       "<style scoped>\n",
       "    .dataframe tbody tr th:only-of-type {\n",
       "        vertical-align: middle;\n",
       "    }\n",
       "\n",
       "    .dataframe tbody tr th {\n",
       "        vertical-align: top;\n",
       "    }\n",
       "\n",
       "    .dataframe thead th {\n",
       "        text-align: right;\n",
       "    }\n",
       "</style>\n",
       "<table border=\"1\" class=\"dataframe\">\n",
       "  <thead>\n",
       "    <tr style=\"text-align: right;\">\n",
       "      <th></th>\n",
       "      <th>EAP_text_length</th>\n",
       "      <th>HPL_text_length</th>\n",
       "      <th>MWS_text_length</th>\n",
       "    </tr>\n",
       "  </thead>\n",
       "  <tbody>\n",
       "    <tr>\n",
       "      <th>count</th>\n",
       "      <td>7900.000000</td>\n",
       "      <td>5635.000000</td>\n",
       "      <td>6044.000000</td>\n",
       "    </tr>\n",
       "    <tr>\n",
       "      <th>mean</th>\n",
       "      <td>25.442405</td>\n",
       "      <td>27.799645</td>\n",
       "      <td>27.417273</td>\n",
       "    </tr>\n",
       "    <tr>\n",
       "      <th>std</th>\n",
       "      <td>18.567706</td>\n",
       "      <td>14.123252</td>\n",
       "      <td>23.134440</td>\n",
       "    </tr>\n",
       "    <tr>\n",
       "      <th>min</th>\n",
       "      <td>2.000000</td>\n",
       "      <td>4.000000</td>\n",
       "      <td>2.000000</td>\n",
       "    </tr>\n",
       "    <tr>\n",
       "      <th>25%</th>\n",
       "      <td>12.000000</td>\n",
       "      <td>18.000000</td>\n",
       "      <td>15.000000</td>\n",
       "    </tr>\n",
       "    <tr>\n",
       "      <th>50%</th>\n",
       "      <td>21.000000</td>\n",
       "      <td>26.000000</td>\n",
       "      <td>23.000000</td>\n",
       "    </tr>\n",
       "    <tr>\n",
       "      <th>75%</th>\n",
       "      <td>33.000000</td>\n",
       "      <td>35.000000</td>\n",
       "      <td>34.000000</td>\n",
       "    </tr>\n",
       "    <tr>\n",
       "      <th>max</th>\n",
       "      <td>267.000000</td>\n",
       "      <td>147.000000</td>\n",
       "      <td>861.000000</td>\n",
       "    </tr>\n",
       "  </tbody>\n",
       "</table>\n",
       "</div>"
      ],
      "text/plain": [
       "       EAP_text_length  HPL_text_length  MWS_text_length\n",
       "count      7900.000000      5635.000000      6044.000000\n",
       "mean         25.442405        27.799645        27.417273\n",
       "std          18.567706        14.123252        23.134440\n",
       "min           2.000000         4.000000         2.000000\n",
       "25%          12.000000        18.000000        15.000000\n",
       "50%          21.000000        26.000000        23.000000\n",
       "75%          33.000000        35.000000        34.000000\n",
       "max         267.000000       147.000000       861.000000"
      ]
     },
     "execution_count": 4,
     "metadata": {},
     "output_type": "execute_result"
    }
   ],
   "source": [
    "df['text_length'] = df[\"text\"].apply(lambda x: len(x.split()))\n",
    "author_names = df['author'].unique()\n",
    "authors_df_list = []\n",
    "word_summary = []\n",
    "for author in author_names:\n",
    "    author_df = df[df['author'] == author].rename(columns={'text_length' : f\"{author}_text_length\"})\n",
    "    top_ten_word_counts = heapq.nlargest(10, author_df[f\"{author}_text_length\"])\n",
    "    print(f\"The highest 10 word counts from {author} were {top_ten_word_counts}.\")\n",
    "    authors_df_list.append(author_df)\n",
    "    word_summary.append(author_df[f\"{author}_text_length\"].describe())\n",
    "word_summary_df = pd.concat(word_summary, axis=1)\n",
    "word_summary_df"
   ]
  },
  {
   "cell_type": "code",
   "execution_count": 5,
   "id": "99f2f194",
   "metadata": {},
   "outputs": [
    {
     "name": "stdout",
     "output_type": "stream",
     "text": [
      "EAP had 2 texts with more than 200 words. \n",
      "HPL had 0 texts with more than 200 words. \n",
      "MWS had 5 texts with more than 200 words. \n"
     ]
    }
   ],
   "source": [
    "max_word_count = 200\n",
    "for i, author in enumerate(author_names):\n",
    "    initial_count = len(authors_df_list[i])\n",
    "    authors_df_list[i] = authors_df_list[i][authors_df_list[i][f'{author}_text_length'] <= max_word_count]\n",
    "    print(f\"{author} had {initial_count - len(authors_df_list[i])} texts with more than {max_word_count} words. \")\n",
    "df = df[df['text_length'] <= max_word_count]"
   ]
  },
  {
   "cell_type": "markdown",
   "id": "b995f05d",
   "metadata": {},
   "source": [
    "It is important to note that most of these samples fall within the range of 200. This means that we should remove the 9 entries (2 from EAP and 7 from MWS) that have more than 200 entries and consider them outliers. While a more strict boundary may be chosen, one must remember the importance of not \"overfitting by hand\". Choosing a loose boundary that only gets rid of large outlier helps improve generalizability. "
   ]
  },
  {
   "cell_type": "code",
   "execution_count": 6,
   "id": "746e4723",
   "metadata": {},
   "outputs": [
    {
     "data": {
      "image/png": "[encoded data removed]",
      "text/plain": [
       "<Figure size 640x480 with 1 Axes>"
      ]
     },
     "metadata": {},
     "output_type": "display_data"
    }
   ],
   "source": [
    "#TODO: rename below variable\n",
    "word_list = []\n",
    "for i, author in enumerate(author_names):\n",
    "    word_list.append(authors_df_list[i][f\"{author}_text_length\"].values)\n",
    "_ = sns.boxplot(data=word_list)\n",
    "\n",
    "# Remove the text_length column as it is no longer needed\n",
    "df.drop(columns=['text_length'], inplace=True)"
   ]
  },
  {
   "cell_type": "markdown",
   "id": "57f3d0c1",
   "metadata": {},
   "source": [
    "## Preprocessing"
   ]
  },
  {
   "cell_type": "code",
   "execution_count": 7,
   "id": "491b8a11",
   "metadata": {},
   "outputs": [
    {
     "name": "stdout",
     "output_type": "stream",
     "text": [
      "(19572, 24719)\n"
     ]
    }
   ],
   "source": [
    "from sklearn.preprocessing import OneHotEncoder, MaxAbsScaler\n",
    "\n",
    "def bag_of_words(df) :\n",
    "    labels = df[\"author\"]\n",
    "    df = df.drop(columns=[\"id\", \"author\"])\n",
    "\n",
    "    # Remove punctuation\n",
    "    to_remove = ['.', ',', '?', '!', ':', ';']\n",
    "    replacement = \" \"\n",
    "\n",
    "    pattern = \"|\".join(map(re.escape, to_remove))\n",
    "    df[\"text\"] = df[\"text\"].str.replace(pattern, replacement, regex=True)\n",
    "\n",
    "    # Tokenization\n",
    "    vectorizer = CountVectorizer(lowercase=True, binary=True, stop_words='english') # Binary makes values 0/1\n",
    "    X = vectorizer.fit_transform(df[\"text\"])\n",
    "    \n",
    "    normalizer = MaxAbsScaler()\n",
    "    X = normalizer.fit_transform(X)\n",
    "    print(X.shape)\n",
    "\n",
    "    return X, labels\n",
    "\n",
    "csr_matrix, labels = bag_of_words(df)\n",
    "labelEncoder = OneHotEncoder(sparse_output=False)\n",
    "labels = labelEncoder.fit_transform(pd.DataFrame(labels))\n",
    "\n",
    "# Store the number of features\n",
    "num_features = csr_matrix.shape[1]"
   ]
  },
  {
   "cell_type": "code",
   "execution_count": 21,
   "id": "9aad9ac6",
   "metadata": {},
   "outputs": [],
   "source": [
    "from torch.utils.data import DataLoader, TensorDataset, random_split\n",
    "import torch\n",
    "\n",
    "device = 'cuda' if torch.cuda.is_available() else 'cpu' \n",
    "\n",
    "# 70-20-10 split\n",
    "train_val_test_split = [0.7, 0.2, 0.1]\n",
    "\n",
    "X = torch.sparse_coo_tensor(csr_matrix.nonzero(), np.array(csr_matrix.data), csr_matrix.shape, dtype=torch.float, device=device)\n",
    "y = torch.tensor(labels, device=device)\n",
    "dataset = TensorDataset(X, y)\n",
    "dataloader = DataLoader(dataset=dataset, batch_size=64, shuffle=True, drop_last=True)\n",
    "\n",
    "train_dataloader, val_dataloader, test_dataloader = random_split(dataset, train_val_test_split)"
   ]
  },
  {
   "cell_type": "markdown",
   "id": "b17c7639",
   "metadata": {},
   "source": [
    "# Model Definition"
   ]
  },
  {
   "cell_type": "code",
   "execution_count": null,
   "id": "0ee4bdca",
   "metadata": {},
   "outputs": [],
   "source": [
    "import torch.nn.functional as F\n",
    "import torch.nn as nn\n",
    "import torch.optim as optim\n",
    "import torch \n",
    "from tqdm import tqdm\n",
    "class LinearModel(nn.Module):\n",
    "    def __init__(self):\n",
    "        super(LinearModel, self).__init__()\n",
    "        self.fc1 = nn.Linear(num_features, 8, dtype=torch.float)\n",
    "        self.dropout = nn.Dropout()\n",
    "        self.fc2 = nn.Linear(8, 3, dtype=torch.float)\n",
    "        self.softmax = nn.Softmax(dim=1)\n",
    "    def forward(self, x):\n",
    "        x = F.relu(self.fc1(x))\n",
    "        x = self.dropout(x)\n",
    "        x = self.softmax(self.fc2(x))\n",
    "        return x\n",
    "    \n",
    "    def mini_batch(self, train: bool, dataloader : DataLoader, optimizer: optim.Optimizer, criterion: nn.modules.loss._Loss) -> float:\n",
    "        running_loss = 0\n",
    "        if(train):\n",
    "            self.train(True)\n",
    "            for X_batch, y_batch in dataloader:\n",
    "                optimizer.zero_grad()\n",
    "                outputs = self.forward(X_batch)\n",
    "                loss = criterion(outputs, y_batch)\n",
    "\n",
    "                loss.backward()\n",
    "                optimizer.step()\n",
    "\n",
    "                running_loss += loss.item()\n",
    "        else:\n",
    "            self.train(False)\n",
    "            for X_batch, y_batch in dataloader:\n",
    "                outputs = self.forward(X_batch)\n",
    "                loss = criterion(outputs, y_batch)\n",
    "\n",
    "                running_loss += loss.item()\n",
    "        average_loss = running_loss/len(dataloader)\n",
    "        return average_loss"
   ]
  },
  {
   "cell_type": "code",
   "execution_count": null,
   "id": "c0b8300a",
   "metadata": {},
   "outputs": [
    {
     "name": "stderr",
     "output_type": "stream",
     "text": [
      "  5%|▌         | 1/20 [00:46<14:35, 46.09s/it]"
     ]
    },
    {
     "name": "stdout",
     "output_type": "stream",
     "text": [
      "The training loss was: 1.0530745646915038 and the validation loss was: 0.9748083184462271.\n"
     ]
    },
    {
     "name": "stderr",
     "output_type": "stream",
     "text": [
      " 10%|█         | 2/20 [01:32<13:51, 46.17s/it]"
     ]
    },
    {
     "name": "stdout",
     "output_type": "stream",
     "text": [
      "The training loss was: 0.9071482634460737 and the validation loss was: 0.8173369784869433.\n"
     ]
    },
    {
     "name": "stderr",
     "output_type": "stream",
     "text": [
      " 15%|█▌        | 3/20 [02:17<12:57, 45.75s/it]"
     ]
    },
    {
     "name": "stdout",
     "output_type": "stream",
     "text": [
      "The training loss was: 0.7749572812706682 and the validation loss was: 0.7051492160520249.\n"
     ]
    },
    {
     "name": "stderr",
     "output_type": "stream",
     "text": [
      " 20%|██        | 4/20 [03:03<12:14, 45.91s/it]"
     ]
    },
    {
     "name": "stdout",
     "output_type": "stream",
     "text": [
      "The training loss was: 0.6934668112487292 and the validation loss was: 0.6355054809718684.\n"
     ]
    },
    {
     "name": "stderr",
     "output_type": "stream",
     "text": [
      " 25%|██▌       | 5/20 [03:50<11:34, 46.27s/it]"
     ]
    },
    {
     "name": "stdout",
     "output_type": "stream",
     "text": [
      "The training loss was: 0.6336236361691323 and the validation loss was: 0.5899366952009863.\n"
     ]
    },
    {
     "name": "stderr",
     "output_type": "stream",
     "text": [
      " 30%|███       | 6/20 [04:36<10:46, 46.16s/it]"
     ]
    },
    {
     "name": "stdout",
     "output_type": "stream",
     "text": [
      "The training loss was: 0.5859242965234631 and the validation loss was: 0.5568501697484902.\n"
     ]
    },
    {
     "name": "stderr",
     "output_type": "stream",
     "text": [
      " 35%|███▌      | 7/20 [05:23<10:01, 46.27s/it]"
     ]
    },
    {
     "name": "stdout",
     "output_type": "stream",
     "text": [
      "The training loss was: 0.5545997276491883 and the validation loss was: 0.5329023428704642.\n"
     ]
    },
    {
     "name": "stderr",
     "output_type": "stream",
     "text": [
      " 40%|████      | 8/20 [06:09<09:14, 46.24s/it]"
     ]
    },
    {
     "name": "stdout",
     "output_type": "stream",
     "text": [
      "The training loss was: 0.5288473675153786 and the validation loss was: 0.5166786665263823.\n"
     ]
    },
    {
     "name": "stderr",
     "output_type": "stream",
     "text": [
      " 45%|████▌     | 9/20 [06:55<08:27, 46.17s/it]"
     ]
    },
    {
     "name": "stdout",
     "output_type": "stream",
     "text": [
      "The training loss was: 0.49936602900444527 and the validation loss was: 0.5030534295574457.\n"
     ]
    },
    {
     "name": "stderr",
     "output_type": "stream",
     "text": [
      " 50%|█████     | 10/20 [07:41<07:41, 46.20s/it]"
     ]
    },
    {
     "name": "stdout",
     "output_type": "stream",
     "text": [
      "The training loss was: 0.4860530436483722 and the validation loss was: 0.4958705836435413.\n"
     ]
    },
    {
     "name": "stderr",
     "output_type": "stream",
     "text": [
      " 55%|█████▌    | 11/20 [08:26<06:52, 45.86s/it]"
     ]
    },
    {
     "name": "stdout",
     "output_type": "stream",
     "text": [
      "The training loss was: 0.47490343940433166 and the validation loss was: 0.4908402733796064.\n"
     ]
    },
    {
     "name": "stderr",
     "output_type": "stream",
     "text": [
      " 60%|██████    | 12/20 [09:12<06:06, 45.82s/it]"
     ]
    },
    {
     "name": "stdout",
     "output_type": "stream",
     "text": [
      "The training loss was: 0.45983446385674615 and the validation loss was: 0.48644598236274034.\n"
     ]
    },
    {
     "name": "stderr",
     "output_type": "stream",
     "text": [
      " 65%|██████▌   | 13/20 [09:58<05:22, 46.05s/it]"
     ]
    },
    {
     "name": "stdout",
     "output_type": "stream",
     "text": [
      "The training loss was: 0.4480468824653476 and the validation loss was: 0.48347840670814174.\n"
     ]
    },
    {
     "name": "stderr",
     "output_type": "stream",
     "text": [
      " 70%|███████   | 14/20 [10:44<04:36, 46.04s/it]"
     ]
    },
    {
     "name": "stdout",
     "output_type": "stream",
     "text": [
      "The training loss was: 0.4387710278346228 and the validation loss was: 0.4816133350997919.\n"
     ]
    },
    {
     "name": "stderr",
     "output_type": "stream",
     "text": [
      " 75%|███████▌  | 15/20 [11:31<03:50, 46.11s/it]"
     ]
    },
    {
     "name": "stdout",
     "output_type": "stream",
     "text": [
      "The training loss was: 0.43020612675027736 and the validation loss was: 0.481120624934702.\n"
     ]
    },
    {
     "name": "stderr",
     "output_type": "stream",
     "text": [
      " 80%|████████  | 16/20 [12:17<03:04, 46.06s/it]"
     ]
    },
    {
     "name": "stdout",
     "output_type": "stream",
     "text": [
      "The training loss was: 0.42336629023257366 and the validation loss was: 0.47976991853504125.\n"
     ]
    },
    {
     "name": "stderr",
     "output_type": "stream",
     "text": [
      " 85%|████████▌ | 17/20 [13:03<02:18, 46.21s/it]"
     ]
    },
    {
     "name": "stdout",
     "output_type": "stream",
     "text": [
      "The training loss was: 0.41405138197865254 and the validation loss was: 0.48113183290753125.\n"
     ]
    },
    {
     "name": "stderr",
     "output_type": "stream",
     "text": [
      " 90%|█████████ | 18/20 [13:50<01:32, 46.27s/it]"
     ]
    },
    {
     "name": "stdout",
     "output_type": "stream",
     "text": [
      "The training loss was: 0.4097100425743324 and the validation loss was: 0.48292627882493644.\n"
     ]
    },
    {
     "name": "stderr",
     "output_type": "stream",
     "text": [
      " 95%|█████████▌| 19/20 [14:35<00:46, 46.05s/it]"
     ]
    },
    {
     "name": "stdout",
     "output_type": "stream",
     "text": [
      "The training loss was: 0.40176082468827357 and the validation loss was: 0.4843126402840757.\n"
     ]
    },
    {
     "name": "stderr",
     "output_type": "stream",
     "text": [
      "100%|██████████| 20/20 [15:22<00:00, 46.10s/it]"
     ]
    },
    {
     "name": "stdout",
     "output_type": "stream",
     "text": [
      "The training loss was: 0.40205130147561735 and the validation loss was: 0.4870411445401413.\n"
     ]
    },
    {
     "name": "stderr",
     "output_type": "stream",
     "text": [
      "\n"
     ]
    }
   ],
   "source": [
    "# Create an instance of the network\n",
    "model = LinearModel()\n",
    "model = model.to(device=device)\n",
    "criterion = nn.NLLLoss()\n",
    "optimizer = optim.Adam(model.parameters(), lr=1e-4)\n",
    "num_epochs = 20\n",
    "train_losses = []\n",
    "val_losses = []\n",
    "epochs = range(1, num_epochs+1)\n",
    "try:\n",
    "    for epoch in tqdm(epochs):\n",
    "        train = True\n",
    "        train_loss = model.mini_batch(train=train, dataloader=train_dataloader, optimizer=optimizer, criterion=criterion)\n",
    "        train = False\n",
    "        val_loss = model.mini_batch(train=train, dataloader=val_dataloader, optimizer=optimizer, criterion=criterion)\n",
    "        print(f\"The training loss was: {train_loss} and the validation loss was: {val_loss}.\")\n",
    "        train_losses.append(train_loss)\n",
    "        val_losses.append(val_loss)\n",
    "except:\n",
    "    np.save(\"train_losses.npy\", np.array(train_losses))\n",
    "    np.save(\"val_losses.npy\", np.array(val_losses))\n",
    "    torch.save(model.state_dict(), \"linear_model.pt\")\n",
    "# model.save(\"linear_model.pt\")\n",
    "# Save Model\n",
    "np.save(\"train_losses.npy\", np.array(train_losses))\n",
    "np.save(\"val_losses.npy\", np.array(val_losses))\n",
    "torch.save(model.state_dict(), \"linear_model.pt\")"
   ]
  },
  {
   "cell_type": "code",
   "execution_count": 9,
   "id": "f599587b",
   "metadata": {},
   "outputs": [
    {
     "name": "stdout",
     "output_type": "stream",
     "text": [
      "(20,)\n"
     ]
    },
    {
     "data": {
      "image/png": "[encoded data removed]",
      "text/plain": [
       "<Figure size 640x480 with 1 Axes>"
      ]
     },
     "metadata": {},
     "output_type": "display_data"
    }
   ],
   "source": [
    "train_loss = np.load(\"train_losses.npy\")\n",
    "val_loss = np.load(\"val_losses.npy\")\n",
    "print(train_loss.shape)\n",
    "epochs_trained = range(train_loss.shape[0])\n",
    "_ = plt.plot(epochs_trained, train_loss, color='b', label=\"Train Loss\")\n",
    "_ = plt.plot(epochs_trained, val_loss, color='r', label=\"Val Loss\")\n",
    "_ = plt.legend()\n",
    "plt.show()"
   ]
  },
  {
   "cell_type": "markdown",
   "id": "d01298d3",
   "metadata": {},
   "source": [
    "## Run Model Against Test Data"
   ]
  },
  {
   "cell_type": "code",
   "execution_count": 32,
   "id": "20f7cb7e",
   "metadata": {},
   "outputs": [
    {
     "data": {
      "text/plain": [
       "<All keys matched successfully>"
      ]
     },
     "execution_count": 32,
     "metadata": {},
     "output_type": "execute_result"
    }
   ],
   "source": [
    "model = LinearModel()\n",
    "model.load_state_dict(torch.load(\"linear_model.pt\", weights_only=True))"
   ]
  },
  {
   "cell_type": "markdown",
   "id": "5dc46948",
   "metadata": {},
   "source": [
    "## Confusion Matrix"
   ]
  },
  {
   "cell_type": "code",
   "execution_count": 50,
   "id": "3bfcd504",
   "metadata": {},
   "outputs": [
    {
     "name": "stdout",
     "output_type": "stream",
     "text": [
      "[1 0 1 ... 0 2 2]\n",
      "[1 0 1 ... 0 2 2]\n"
     ]
    },
    {
     "data": {
      "image/png": "[encoded data removed]",
      "text/plain": [
       "<Figure size 640x480 with 2 Axes>"
      ]
     },
     "metadata": {},
     "output_type": "display_data"
    }
   ],
   "source": [
    "from sklearn.metrics import confusion_matrix, classification_report, ConfusionMatrixDisplay\n",
    "y_pred = []\n",
    "y_actual = []\n",
    "for X_batch, y_batch in test_dataloader:\n",
    "    outputs = model(X_batch.cpu().detach())\n",
    "    y_actual.append(y_batch.cpu().detach().numpy())\n",
    "    y_pred.append(np.array(np.round(outputs.cpu().detach().numpy()), dtype=int))\n",
    "y_pred_encoded = np.zeros_like(y_pred)\n",
    "y_pred = np.array(y_pred)\n",
    "y_pred_encoded[np.arange(len(y_pred)), y_pred.argmax(1)] = 1\n",
    "\n",
    "# Get predicted index array\n",
    "pred_index_arr = np.argmax(y_pred_encoded, axis=1)\n",
    "print(pred_index_arr)\n",
    "\n",
    "# Get actual index array\n",
    "y_actual = np.array(y_actual)\n",
    "actual_index_arr = np.argmax(y_actual, axis=1)\n",
    "print(actual_index_arr)\n",
    "\n",
    "cm = confusion_matrix(actual_index_arr, pred_index_arr)\n",
    "disp = ConfusionMatrixDisplay(confusion_matrix=cm, display_labels=author_names)\n",
    "disp.plot(cmap=plt.cm.Blues)\n",
    "plt.show()"
   ]
  }
 ],
 "metadata": {
  "kernelspec": {
   "display_name": "kernel_installed",
   "language": "python",
   "name": "kernel_installed"
  },
  "language_info": {
   "codemirror_mode": {
    "name": "ipython",
    "version": 3
   },
   "file_extension": ".py",
   "mimetype": "text/x-python",
   "name": "python",
   "nbconvert_exporter": "python",
   "pygments_lexer": "ipython3",
   "version": "3.13.7"
  }
 },
 "nbformat": 4,
 "nbformat_minor": 5
}
